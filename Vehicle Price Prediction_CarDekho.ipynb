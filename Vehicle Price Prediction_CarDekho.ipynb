{
 "cells": [
  {
   "cell_type": "markdown",
   "id": "6c7460b8",
   "metadata": {},
   "source": [
    "# Car re-sale Price Prediction\n",
    "\n",
    "\n",
    "#### Data Source: Kaggle\n",
    "#### Refrence: Kirsh Naik\n",
    "#### Contents: EDA, Modeling and Evaluation"
   ]
  },
  {
   "cell_type": "code",
   "execution_count": 1,
   "id": "228dafa5",
   "metadata": {},
   "outputs": [],
   "source": [
    "#Libraries\n",
    "import pandas as pd\n",
    "import matplotlib.pyplot as plt\n",
    "%matplotlib inline\n",
    "import seaborn as sns\n",
    "import statistics as stats"
   ]
  },
  {
   "cell_type": "markdown",
   "id": "42ff3966",
   "metadata": {},
   "source": [
    "## _Loading Dataset_"
   ]
  },
  {
   "cell_type": "code",
   "execution_count": 2,
   "id": "b4f54d20",
   "metadata": {},
   "outputs": [
    {
     "data": {
      "text/html": [
       "<div>\n",
       "<style scoped>\n",
       "    .dataframe tbody tr th:only-of-type {\n",
       "        vertical-align: middle;\n",
       "    }\n",
       "\n",
       "    .dataframe tbody tr th {\n",
       "        vertical-align: top;\n",
       "    }\n",
       "\n",
       "    .dataframe thead th {\n",
       "        text-align: right;\n",
       "    }\n",
       "</style>\n",
       "<table border=\"1\" class=\"dataframe\">\n",
       "  <thead>\n",
       "    <tr style=\"text-align: right;\">\n",
       "      <th></th>\n",
       "      <th>Car_Name</th>\n",
       "      <th>Year</th>\n",
       "      <th>Selling_Price</th>\n",
       "      <th>Present_Price</th>\n",
       "      <th>Kms_Driven</th>\n",
       "      <th>Fuel_Type</th>\n",
       "      <th>Seller_Type</th>\n",
       "      <th>Transmission</th>\n",
       "      <th>Owner</th>\n",
       "    </tr>\n",
       "  </thead>\n",
       "  <tbody>\n",
       "    <tr>\n",
       "      <th>0</th>\n",
       "      <td>ritz</td>\n",
       "      <td>2014</td>\n",
       "      <td>3.35</td>\n",
       "      <td>5.59</td>\n",
       "      <td>27000</td>\n",
       "      <td>Petrol</td>\n",
       "      <td>Dealer</td>\n",
       "      <td>Manual</td>\n",
       "      <td>0</td>\n",
       "    </tr>\n",
       "    <tr>\n",
       "      <th>1</th>\n",
       "      <td>sx4</td>\n",
       "      <td>2013</td>\n",
       "      <td>4.75</td>\n",
       "      <td>9.54</td>\n",
       "      <td>43000</td>\n",
       "      <td>Diesel</td>\n",
       "      <td>Dealer</td>\n",
       "      <td>Manual</td>\n",
       "      <td>0</td>\n",
       "    </tr>\n",
       "    <tr>\n",
       "      <th>2</th>\n",
       "      <td>ciaz</td>\n",
       "      <td>2017</td>\n",
       "      <td>7.25</td>\n",
       "      <td>9.85</td>\n",
       "      <td>6900</td>\n",
       "      <td>Petrol</td>\n",
       "      <td>Dealer</td>\n",
       "      <td>Manual</td>\n",
       "      <td>0</td>\n",
       "    </tr>\n",
       "    <tr>\n",
       "      <th>3</th>\n",
       "      <td>wagon r</td>\n",
       "      <td>2011</td>\n",
       "      <td>2.85</td>\n",
       "      <td>4.15</td>\n",
       "      <td>5200</td>\n",
       "      <td>Petrol</td>\n",
       "      <td>Dealer</td>\n",
       "      <td>Manual</td>\n",
       "      <td>0</td>\n",
       "    </tr>\n",
       "    <tr>\n",
       "      <th>4</th>\n",
       "      <td>swift</td>\n",
       "      <td>2014</td>\n",
       "      <td>4.60</td>\n",
       "      <td>6.87</td>\n",
       "      <td>42450</td>\n",
       "      <td>Diesel</td>\n",
       "      <td>Dealer</td>\n",
       "      <td>Manual</td>\n",
       "      <td>0</td>\n",
       "    </tr>\n",
       "  </tbody>\n",
       "</table>\n",
       "</div>"
      ],
      "text/plain": [
       "  Car_Name  Year  Selling_Price  Present_Price  Kms_Driven Fuel_Type  \\\n",
       "0     ritz  2014           3.35           5.59       27000    Petrol   \n",
       "1      sx4  2013           4.75           9.54       43000    Diesel   \n",
       "2     ciaz  2017           7.25           9.85        6900    Petrol   \n",
       "3  wagon r  2011           2.85           4.15        5200    Petrol   \n",
       "4    swift  2014           4.60           6.87       42450    Diesel   \n",
       "\n",
       "  Seller_Type Transmission  Owner  \n",
       "0      Dealer       Manual      0  \n",
       "1      Dealer       Manual      0  \n",
       "2      Dealer       Manual      0  \n",
       "3      Dealer       Manual      0  \n",
       "4      Dealer       Manual      0  "
      ]
     },
     "execution_count": 2,
     "metadata": {},
     "output_type": "execute_result"
    }
   ],
   "source": [
    "og_data = pd.read_csv('car data.csv')\n",
    "og_data.head()"
   ]
  },
  {
   "cell_type": "code",
   "execution_count": 3,
   "id": "fe105f54",
   "metadata": {},
   "outputs": [
    {
     "name": "stdout",
     "output_type": "stream",
     "text": [
      "<class 'pandas.core.frame.DataFrame'>\n",
      "RangeIndex: 301 entries, 0 to 300\n",
      "Data columns (total 9 columns):\n",
      " #   Column         Non-Null Count  Dtype  \n",
      "---  ------         --------------  -----  \n",
      " 0   Car_Name       301 non-null    object \n",
      " 1   Year           301 non-null    int64  \n",
      " 2   Selling_Price  301 non-null    float64\n",
      " 3   Present_Price  301 non-null    float64\n",
      " 4   Kms_Driven     301 non-null    int64  \n",
      " 5   Fuel_Type      301 non-null    object \n",
      " 6   Seller_Type    301 non-null    object \n",
      " 7   Transmission   301 non-null    object \n",
      " 8   Owner          301 non-null    int64  \n",
      "dtypes: float64(2), int64(3), object(4)\n",
      "memory usage: 16.5+ KB\n",
      "None\n",
      "--------------------------------------------------------------------------------\n",
      "<No. of Unique Values>\n",
      "Car_Name          98\n",
      "Year              16\n",
      "Selling_Price    156\n",
      "Present_Price    147\n",
      "Kms_Driven       206\n",
      "Fuel_Type          3\n",
      "Seller_Type        2\n",
      "Transmission       2\n",
      "Owner              3\n",
      "dtype: int64\n"
     ]
    }
   ],
   "source": [
    "print(og_data.info())\n",
    "print(\"-\"*80)\n",
    "print(\"<No. of Unique Values>\")\n",
    "print(og_data.nunique())"
   ]
  },
  {
   "cell_type": "raw",
   "id": "6e7a0084",
   "metadata": {},
   "source": [
    "#_No Missing Values\n",
    "#_Categorical: Fuel_Type, Seller_Type, Transmission, Owner\n",
    "#_Non-Numeric: Car_Name, Fuel_Type, Seller_Type, Transmission"
   ]
  },
  {
   "cell_type": "markdown",
   "id": "0e116416",
   "metadata": {},
   "source": [
    "## _EDA_"
   ]
  },
  {
   "cell_type": "markdown",
   "id": "818519ef",
   "metadata": {},
   "source": [
    "#### Analyzing behavior of Categorical features wrt Selling Price"
   ]
  },
  {
   "cell_type": "code",
   "execution_count": 4,
   "id": "bf51c68c",
   "metadata": {},
   "outputs": [
    {
     "data": {
      "text/plain": [
       "<seaborn.axisgrid.FacetGrid at 0xf959c58>"
      ]
     },
     "execution_count": 4,
     "metadata": {},
     "output_type": "execute_result"
    },
    {
     "data": {
      "image/png": "[encoded data removed]",
      "text/plain": [
       "<Figure size 360x360 with 1 Axes>"
      ]
     },
     "metadata": {
      "needs_background": "light"
     },
     "output_type": "display_data"
    }
   ],
   "source": [
    "#SP wrt Fuel_Type\n",
    "sns.catplot(x='Fuel_Type',y='Selling_Price',\n",
    "            data=og_data)"
   ]
  },
  {
   "cell_type": "raw",
   "id": "886322dc",
   "metadata": {},
   "source": [
    "#_Diesel cars have highest SP < Petrol Cars < CNG\n",
    "#_No. of CNG cars is the least"
   ]
  },
  {
   "cell_type": "code",
   "execution_count": 6,
   "id": "6ca8ceb3",
   "metadata": {},
   "outputs": [
    {
     "data": {
      "text/plain": [
       "<seaborn.axisgrid.FacetGrid at 0x1025f880>"
      ]
     },
     "execution_count": 6,
     "metadata": {},
     "output_type": "execute_result"
    },
    {
     "data": {
      "image/png": "[encoded data removed]",
      "text/plain": [
       "<Figure size 427x360 with 1 Axes>"
      ]
     },
     "metadata": {
      "needs_background": "light"
     },
     "output_type": "display_data"
    }
   ],
   "source": [
    "#SP wrt Kms Driven\n",
    "sns.catplot(y='Selling_Price',x='Kms_Driven',\n",
    "            hue='Fuel_Type',\n",
    "            data=og_data)"
   ]
  },
  {
   "cell_type": "raw",
   "id": "45a519fe",
   "metadata": {},
   "source": [
    "#_Price do not vary much with Kms_Driven\n",
    "\n",
    "#_Diesel cars are driven more --> Probably durable mileage, that's why Diesel Cars have higher prices\n",
    "\n",
    "#_Petrol cars have consistent pricing irrespective of the Kms_Driven"
   ]
  },
  {
   "cell_type": "code",
   "execution_count": 7,
   "id": "54b60dda",
   "metadata": {},
   "outputs": [
    {
     "data": {
      "text/html": [
       "<div>\n",
       "<style scoped>\n",
       "    .dataframe tbody tr th:only-of-type {\n",
       "        vertical-align: middle;\n",
       "    }\n",
       "\n",
       "    .dataframe tbody tr th {\n",
       "        vertical-align: top;\n",
       "    }\n",
       "\n",
       "    .dataframe thead th {\n",
       "        text-align: right;\n",
       "    }\n",
       "</style>\n",
       "<table border=\"1\" class=\"dataframe\">\n",
       "  <thead>\n",
       "    <tr style=\"text-align: right;\">\n",
       "      <th>Fuel_Type</th>\n",
       "      <th>CNG</th>\n",
       "      <th>Diesel</th>\n",
       "      <th>Petrol</th>\n",
       "    </tr>\n",
       "    <tr>\n",
       "      <th>Transmission</th>\n",
       "      <th></th>\n",
       "      <th></th>\n",
       "      <th></th>\n",
       "    </tr>\n",
       "  </thead>\n",
       "  <tbody>\n",
       "    <tr>\n",
       "      <th>Automatic</th>\n",
       "      <td>0</td>\n",
       "      <td>12</td>\n",
       "      <td>28</td>\n",
       "    </tr>\n",
       "    <tr>\n",
       "      <th>Manual</th>\n",
       "      <td>2</td>\n",
       "      <td>48</td>\n",
       "      <td>211</td>\n",
       "    </tr>\n",
       "  </tbody>\n",
       "</table>\n",
       "</div>"
      ],
      "text/plain": [
       "Fuel_Type     CNG  Diesel  Petrol\n",
       "Transmission                     \n",
       "Automatic       0      12      28\n",
       "Manual          2      48     211"
      ]
     },
     "execution_count": 7,
     "metadata": {},
     "output_type": "execute_result"
    },
    {
     "data": {
      "image/png": "[encoded data removed]",
      "text/plain": [
       "<Figure size 447.125x360 with 1 Axes>"
      ]
     },
     "metadata": {
      "needs_background": "light"
     },
     "output_type": "display_data"
    }
   ],
   "source": [
    "#Is Price depended on the Transimission Type ?\n",
    "sns.catplot(y='Selling_Price',hue='Transmission',\n",
    "            x='Fuel_Type',\n",
    "            data=og_data)\n",
    "pd.crosstab(og_data['Transmission'],og_data['Fuel_Type'])"
   ]
  },
  {
   "cell_type": "markdown",
   "id": "12292e0e",
   "metadata": {},
   "source": [
    "#_Automatic Diesel cars are priced much higher\n",
    "\n",
    "#_Automatic Petrol Cars have standard price irrespective of the transmission\n",
    "\n",
    "#_Price independant of Transmission"
   ]
  },
  {
   "cell_type": "code",
   "execution_count": 8,
   "id": "b4c86d3d",
   "metadata": {},
   "outputs": [
    {
     "data": {
      "text/html": [
       "<div>\n",
       "<style scoped>\n",
       "    .dataframe tbody tr th:only-of-type {\n",
       "        vertical-align: middle;\n",
       "    }\n",
       "\n",
       "    .dataframe tbody tr th {\n",
       "        vertical-align: top;\n",
       "    }\n",
       "\n",
       "    .dataframe thead th {\n",
       "        text-align: right;\n",
       "    }\n",
       "</style>\n",
       "<table border=\"1\" class=\"dataframe\">\n",
       "  <thead>\n",
       "    <tr style=\"text-align: right;\">\n",
       "      <th>Seller_Type</th>\n",
       "      <th>Dealer</th>\n",
       "      <th>Individual</th>\n",
       "    </tr>\n",
       "    <tr>\n",
       "      <th>Owner</th>\n",
       "      <th></th>\n",
       "      <th></th>\n",
       "    </tr>\n",
       "  </thead>\n",
       "  <tbody>\n",
       "    <tr>\n",
       "      <th>0</th>\n",
       "      <td>191</td>\n",
       "      <td>99</td>\n",
       "    </tr>\n",
       "    <tr>\n",
       "      <th>1</th>\n",
       "      <td>4</td>\n",
       "      <td>6</td>\n",
       "    </tr>\n",
       "    <tr>\n",
       "      <th>3</th>\n",
       "      <td>0</td>\n",
       "      <td>1</td>\n",
       "    </tr>\n",
       "  </tbody>\n",
       "</table>\n",
       "</div>"
      ],
      "text/plain": [
       "Seller_Type  Dealer  Individual\n",
       "Owner                          \n",
       "0               191          99\n",
       "1                 4           6\n",
       "3                 0           1"
      ]
     },
     "execution_count": 8,
     "metadata": {},
     "output_type": "execute_result"
    },
    {
     "data": {
      "image/png": "[encoded data removed]",
      "text/plain": [
       "<Figure size 402.375x360 with 1 Axes>"
      ]
     },
     "metadata": {
      "needs_background": "light"
     },
     "output_type": "display_data"
    }
   ],
   "source": [
    "#SP wrt Owners\n",
    "sns.catplot(y='Selling_Price',hue='Owner',\n",
    "            x='Seller_Type',\n",
    "            data=og_data, kind ='bar')\n",
    "pd.crosstab(og_data['Owner'],og_data['Seller_Type'])"
   ]
  },
  {
   "cell_type": "markdown",
   "id": "9a1158af",
   "metadata": {},
   "source": [
    "#_Mostly first hand car owners opt for dealers to sell the car\n",
    "\n",
    "#_First Hand cars are sold at a higher rate"
   ]
  },
  {
   "cell_type": "markdown",
   "id": "a5febcb3",
   "metadata": {},
   "source": [
    "#### Price Trend based on the Year"
   ]
  },
  {
   "cell_type": "code",
   "execution_count": 9,
   "id": "2e714312",
   "metadata": {},
   "outputs": [
    {
     "data": {
      "text/plain": [
       "<AxesSubplot:xlabel='Year', ylabel='Selling_Price'>"
      ]
     },
     "execution_count": 9,
     "metadata": {},
     "output_type": "execute_result"
    },
    {
     "data": {
      "image/png": "[encoded data removed]",
      "text/plain": [
       "<Figure size 432x288 with 1 Axes>"
      ]
     },
     "metadata": {
      "needs_background": "light"
     },
     "output_type": "display_data"
    }
   ],
   "source": [
    "#SP wrt Years\n",
    "sns.lineplot(x='Year',y='Selling_Price',data=og_data)"
   ]
  },
  {
   "cell_type": "raw",
   "id": "bb8d122b",
   "metadata": {},
   "source": [
    "#_As expected, cars owned for a few years have better pricing"
   ]
  },
  {
   "cell_type": "code",
   "execution_count": 10,
   "id": "8db212d8",
   "metadata": {},
   "outputs": [
    {
     "data": {
      "text/plain": [
       "<AxesSubplot:xlabel='Year', ylabel='Present_Price'>"
      ]
     },
     "execution_count": 10,
     "metadata": {},
     "output_type": "execute_result"
    },
    {
     "data": {
      "image/png": "[encoded data removed]",
      "text/plain": [
       "<Figure size 432x288 with 1 Axes>"
      ]
     },
     "metadata": {
      "needs_background": "light"
     },
     "output_type": "display_data"
    }
   ],
   "source": [
    "###_Considering Present_Price to be the Price of the car when it was bought i.e Cost_Price_###\n",
    "\n",
    "sns.lineplot(x='Year',y='Present_Price',data=og_data)"
   ]
  },
  {
   "cell_type": "raw",
   "id": "a3761edb",
   "metadata": {},
   "source": [
    "#_Prices of Cars have been steadily increasing post 2016"
   ]
  },
  {
   "cell_type": "code",
   "execution_count": 11,
   "id": "1e900d11",
   "metadata": {},
   "outputs": [
    {
     "data": {
      "text/plain": [
       "<AxesSubplot:xlabel='Year', ylabel='Profit'>"
      ]
     },
     "execution_count": 11,
     "metadata": {},
     "output_type": "execute_result"
    },
    {
     "data": {
      "image/png": "[encoded data removed]",
      "text/plain": [
       "<Figure size 432x288 with 1 Axes>"
      ]
     },
     "metadata": {
      "needs_background": "light"
     },
     "output_type": "display_data"
    }
   ],
   "source": [
    "#Creating profit persent column\n",
    "og_data['Profit'] = ((og_data['Present_Price']-og_data['Selling_Price'])/og_data['Present_Price'])*100\n",
    "sns.lineplot(x='Year',y='Profit',data=og_data)"
   ]
  },
  {
   "cell_type": "raw",
   "id": "d3ee7629",
   "metadata": {},
   "source": [
    "#_The profit margin has declined over the years\n",
    "#_Probably less demand for resold cars"
   ]
  },
  {
   "cell_type": "markdown",
   "id": "3ccb1992",
   "metadata": {},
   "source": [
    "#### Exploring Statistics"
   ]
  },
  {
   "cell_type": "code",
   "execution_count": 12,
   "id": "95f6e74f",
   "metadata": {},
   "outputs": [
    {
     "data": {
      "text/html": [
       "<div>\n",
       "<style scoped>\n",
       "    .dataframe tbody tr th:only-of-type {\n",
       "        vertical-align: middle;\n",
       "    }\n",
       "\n",
       "    .dataframe tbody tr th {\n",
       "        vertical-align: top;\n",
       "    }\n",
       "\n",
       "    .dataframe thead th {\n",
       "        text-align: right;\n",
       "    }\n",
       "</style>\n",
       "<table border=\"1\" class=\"dataframe\">\n",
       "  <thead>\n",
       "    <tr style=\"text-align: right;\">\n",
       "      <th></th>\n",
       "      <th>Year</th>\n",
       "      <th>Selling_Price</th>\n",
       "      <th>Present_Price</th>\n",
       "      <th>Kms_Driven</th>\n",
       "      <th>Owner</th>\n",
       "      <th>Profit</th>\n",
       "    </tr>\n",
       "  </thead>\n",
       "  <tbody>\n",
       "    <tr>\n",
       "      <th>count</th>\n",
       "      <td>301.000000</td>\n",
       "      <td>301.000000</td>\n",
       "      <td>301.000000</td>\n",
       "      <td>301.000000</td>\n",
       "      <td>301.000000</td>\n",
       "      <td>301.000000</td>\n",
       "    </tr>\n",
       "    <tr>\n",
       "      <th>mean</th>\n",
       "      <td>2013.627907</td>\n",
       "      <td>4.661296</td>\n",
       "      <td>7.628472</td>\n",
       "      <td>36947.205980</td>\n",
       "      <td>0.043189</td>\n",
       "      <td>36.554836</td>\n",
       "    </tr>\n",
       "    <tr>\n",
       "      <th>std</th>\n",
       "      <td>2.891554</td>\n",
       "      <td>5.082812</td>\n",
       "      <td>8.644115</td>\n",
       "      <td>38886.883882</td>\n",
       "      <td>0.247915</td>\n",
       "      <td>20.236878</td>\n",
       "    </tr>\n",
       "    <tr>\n",
       "      <th>min</th>\n",
       "      <td>2003.000000</td>\n",
       "      <td>0.100000</td>\n",
       "      <td>0.320000</td>\n",
       "      <td>500.000000</td>\n",
       "      <td>0.000000</td>\n",
       "      <td>1.074547</td>\n",
       "    </tr>\n",
       "    <tr>\n",
       "      <th>25%</th>\n",
       "      <td>2012.000000</td>\n",
       "      <td>0.900000</td>\n",
       "      <td>1.200000</td>\n",
       "      <td>15000.000000</td>\n",
       "      <td>0.000000</td>\n",
       "      <td>20.993228</td>\n",
       "    </tr>\n",
       "    <tr>\n",
       "      <th>50%</th>\n",
       "      <td>2014.000000</td>\n",
       "      <td>3.600000</td>\n",
       "      <td>6.400000</td>\n",
       "      <td>32000.000000</td>\n",
       "      <td>0.000000</td>\n",
       "      <td>34.537246</td>\n",
       "    </tr>\n",
       "    <tr>\n",
       "      <th>75%</th>\n",
       "      <td>2016.000000</td>\n",
       "      <td>6.000000</td>\n",
       "      <td>9.900000</td>\n",
       "      <td>48767.000000</td>\n",
       "      <td>0.000000</td>\n",
       "      <td>49.494949</td>\n",
       "    </tr>\n",
       "    <tr>\n",
       "      <th>max</th>\n",
       "      <td>2018.000000</td>\n",
       "      <td>35.000000</td>\n",
       "      <td>92.600000</td>\n",
       "      <td>500000.000000</td>\n",
       "      <td>3.000000</td>\n",
       "      <td>89.464812</td>\n",
       "    </tr>\n",
       "  </tbody>\n",
       "</table>\n",
       "</div>"
      ],
      "text/plain": [
       "              Year  Selling_Price  Present_Price     Kms_Driven       Owner  \\\n",
       "count   301.000000     301.000000     301.000000     301.000000  301.000000   \n",
       "mean   2013.627907       4.661296       7.628472   36947.205980    0.043189   \n",
       "std       2.891554       5.082812       8.644115   38886.883882    0.247915   \n",
       "min    2003.000000       0.100000       0.320000     500.000000    0.000000   \n",
       "25%    2012.000000       0.900000       1.200000   15000.000000    0.000000   \n",
       "50%    2014.000000       3.600000       6.400000   32000.000000    0.000000   \n",
       "75%    2016.000000       6.000000       9.900000   48767.000000    0.000000   \n",
       "max    2018.000000      35.000000      92.600000  500000.000000    3.000000   \n",
       "\n",
       "           Profit  \n",
       "count  301.000000  \n",
       "mean    36.554836  \n",
       "std     20.236878  \n",
       "min      1.074547  \n",
       "25%     20.993228  \n",
       "50%     34.537246  \n",
       "75%     49.494949  \n",
       "max     89.464812  "
      ]
     },
     "execution_count": 12,
     "metadata": {},
     "output_type": "execute_result"
    }
   ],
   "source": [
    "og_data.describe()"
   ]
  },
  {
   "cell_type": "raw",
   "id": "85f4c0bc",
   "metadata": {},
   "source": [
    "#_Outliers Exists in all columns"
   ]
  },
  {
   "cell_type": "code",
   "execution_count": 13,
   "id": "7d38bd52",
   "metadata": {},
   "outputs": [
    {
     "name": "stderr",
     "output_type": "stream",
     "text": [
      "<ipython-input-13-209bff5a4d3b>:2: UserWarning: To output multiple subplots, the figure containing the passed axes is being cleared\n",
      "  og_data.hist(ax=ax)\n"
     ]
    },
    {
     "data": {
      "image/png": "[encoded data removed]",
      "text/plain": [
       "<Figure size 1440x1440 with 6 Axes>"
      ]
     },
     "metadata": {
      "needs_background": "light"
     },
     "output_type": "display_data"
    }
   ],
   "source": [
    "fig, ax = plt.subplots(figsize=(20,20))\n",
    "og_data.hist(ax=ax)\n",
    "plt.show()"
   ]
  },
  {
   "cell_type": "raw",
   "id": "c2af2770",
   "metadata": {},
   "source": [
    "#_Skeweness Exists probably because of Outliers"
   ]
  },
  {
   "cell_type": "markdown",
   "id": "6a49a520",
   "metadata": {},
   "source": [
    "#### Treating Outliers\n",
    "\n",
    "#_Priority: Selling Price -> Present_Price -> Kms_Driven"
   ]
  },
  {
   "cell_type": "code",
   "execution_count": 14,
   "id": "485a61cc",
   "metadata": {},
   "outputs": [
    {
     "name": "stderr",
     "output_type": "stream",
     "text": [
      "C:\\Users\\Kanchan\\anaconda3\\lib\\site-packages\\seaborn\\_decorators.py:36: FutureWarning: Pass the following variable as a keyword arg: x. From version 0.12, the only valid positional argument will be `data`, and passing other arguments without an explicit keyword will result in an error or misinterpretation.\n",
      "  warnings.warn(\n"
     ]
    },
    {
     "data": {
      "text/plain": [
       "<AxesSubplot:xlabel='Selling_Price'>"
      ]
     },
     "execution_count": 14,
     "metadata": {},
     "output_type": "execute_result"
    },
    {
     "data": {
      "image/png": "[encoded data removed]",
      "text/plain": [
       "<Figure size 432x288 with 1 Axes>"
      ]
     },
     "metadata": {
      "needs_background": "light"
     },
     "output_type": "display_data"
    }
   ],
   "source": [
    "#Selling Price\n",
    "sns.boxplot(og_data['Selling_Price'])"
   ]
  },
  {
   "cell_type": "code",
   "execution_count": 15,
   "id": "daab17fe",
   "metadata": {},
   "outputs": [],
   "source": [
    "###_Detecting Outliers with the help of IQR\n",
    "#Defining Variables\n",
    "q3 = og_data['Selling_Price'].quantile(0.75)\n",
    "q1 = og_data['Selling_Price'].quantile(0.25)\n",
    "IQR = q3 - q1"
   ]
  },
  {
   "cell_type": "code",
   "execution_count": 16,
   "id": "095d53a7",
   "metadata": {},
   "outputs": [],
   "source": [
    "#Defining function to detect outliers\n",
    "def find_outliers(data):\n",
    "    outliers = []\n",
    "    lower = q1 - (IQR*1.5)\n",
    "    upper = q3 + (IQR*1.5)\n",
    "    for i in data:\n",
    "        if ((i < lower) | (i>upper)):\n",
    "            outliers.append(i)\n",
    "        else:\n",
    "            continue\n",
    "    return outliers"
   ]
  },
  {
   "cell_type": "code",
   "execution_count": 17,
   "id": "e127ad84",
   "metadata": {},
   "outputs": [
    {
     "data": {
      "text/plain": [
       "[14.9,\n",
       " 23.0,\n",
       " 18.0,\n",
       " 16.0,\n",
       " 19.99,\n",
       " 18.75,\n",
       " 23.5,\n",
       " 33.0,\n",
       " 19.75,\n",
       " 14.25,\n",
       " 14.5,\n",
       " 14.73,\n",
       " 23.0,\n",
       " 35.0,\n",
       " 23.0,\n",
       " 20.75,\n",
       " 17.0]"
      ]
     },
     "execution_count": 17,
     "metadata": {},
     "output_type": "execute_result"
    }
   ],
   "source": [
    "#Outliers in Selling_Price are:\n",
    "sp_out = find_outliers(og_data['Selling_Price'])\n",
    "sp_out"
   ]
  },
  {
   "cell_type": "code",
   "execution_count": 18,
   "id": "57840a22",
   "metadata": {},
   "outputs": [
    {
     "data": {
      "text/plain": [
       "5.647840531561462"
      ]
     },
     "execution_count": 18,
     "metadata": {},
     "output_type": "execute_result"
    }
   ],
   "source": [
    "#Checking %\n",
    "(len(sp_out)/len(og_data))*100"
   ]
  },
  {
   "cell_type": "code",
   "execution_count": 19,
   "id": "d3c4c232",
   "metadata": {},
   "outputs": [
    {
     "data": {
      "text/plain": [
       "(284, 10)"
      ]
     },
     "execution_count": 19,
     "metadata": {},
     "output_type": "execute_result"
    }
   ],
   "source": [
    "#Dropping Outliers from SP\n",
    "indices = og_data[og_data['Selling_Price'].isin(sp_out)].index\n",
    "proc_data_1 = og_data.drop(indices)\n",
    "proc_data_1.shape"
   ]
  },
  {
   "cell_type": "code",
   "execution_count": 20,
   "id": "cfa926e1",
   "metadata": {},
   "outputs": [
    {
     "name": "stderr",
     "output_type": "stream",
     "text": [
      "C:\\Users\\Kanchan\\anaconda3\\lib\\site-packages\\seaborn\\_decorators.py:36: FutureWarning: Pass the following variable as a keyword arg: x. From version 0.12, the only valid positional argument will be `data`, and passing other arguments without an explicit keyword will result in an error or misinterpretation.\n",
      "  warnings.warn(\n"
     ]
    },
    {
     "data": {
      "text/plain": [
       "<AxesSubplot:xlabel='Selling_Price'>"
      ]
     },
     "execution_count": 20,
     "metadata": {},
     "output_type": "execute_result"
    },
    {
     "data": {
      "image/png": "[encoded data removed]",
      "text/plain": [
       "<Figure size 432x288 with 1 Axes>"
      ]
     },
     "metadata": {
      "needs_background": "light"
     },
     "output_type": "display_data"
    }
   ],
   "source": [
    "sns.boxplot(proc_data_1['Selling_Price'])"
   ]
  },
  {
   "cell_type": "code",
   "execution_count": 21,
   "id": "e4e2794d",
   "metadata": {},
   "outputs": [
    {
     "data": {
      "text/plain": [
       "(282, 10)"
      ]
     },
     "execution_count": 21,
     "metadata": {},
     "output_type": "execute_result"
    }
   ],
   "source": [
    "proc_data_2 = proc_data_1.drop(proc_data_1[proc_data_1['Selling_Price'] > 12].index)\n",
    "proc_data_2.shape"
   ]
  },
  {
   "cell_type": "code",
   "execution_count": 22,
   "id": "15c85cc6",
   "metadata": {},
   "outputs": [
    {
     "name": "stderr",
     "output_type": "stream",
     "text": [
      "C:\\Users\\Kanchan\\anaconda3\\lib\\site-packages\\seaborn\\_decorators.py:36: FutureWarning: Pass the following variable as a keyword arg: x. From version 0.12, the only valid positional argument will be `data`, and passing other arguments without an explicit keyword will result in an error or misinterpretation.\n",
      "  warnings.warn(\n"
     ]
    },
    {
     "data": {
      "text/plain": [
       "<AxesSubplot:xlabel='Selling_Price'>"
      ]
     },
     "execution_count": 22,
     "metadata": {},
     "output_type": "execute_result"
    },
    {
     "data": {
      "image/png": "[encoded data removed]",
      "text/plain": [
       "<Figure size 432x288 with 1 Axes>"
      ]
     },
     "metadata": {
      "needs_background": "light"
     },
     "output_type": "display_data"
    }
   ],
   "source": [
    "sns.boxplot(proc_data_2['Selling_Price'])"
   ]
  },
  {
   "cell_type": "raw",
   "id": "05cc5d0a",
   "metadata": {},
   "source": [
    "#_No Outliers in SP"
   ]
  },
  {
   "cell_type": "code",
   "execution_count": 23,
   "id": "13a7d422",
   "metadata": {},
   "outputs": [
    {
     "data": {
      "text/plain": [
       "<AxesSubplot:>"
      ]
     },
     "execution_count": 23,
     "metadata": {},
     "output_type": "execute_result"
    },
    {
     "data": {
      "image/png": "[encoded data removed]",
      "text/plain": [
       "<Figure size 432x288 with 1 Axes>"
      ]
     },
     "metadata": {
      "needs_background": "light"
     },
     "output_type": "display_data"
    }
   ],
   "source": [
    "#Vizualizing Outliers again\n",
    "proc_data_2.boxplot()"
   ]
  },
  {
   "cell_type": "code",
   "execution_count": 24,
   "id": "afabd11b",
   "metadata": {},
   "outputs": [],
   "source": [
    "###_Detecting Outliers with the help of IQR\n",
    "#Defining Variables\n",
    "q3 = proc_data_2['Kms_Driven'].quantile(0.75)\n",
    "q1 = proc_data_2['Kms_Driven'].quantile(0.25)\n",
    "IQR = q3 - q1"
   ]
  },
  {
   "cell_type": "code",
   "execution_count": 25,
   "id": "3866e570",
   "metadata": {},
   "outputs": [
    {
     "data": {
      "text/plain": [
       "[127000, 135154, 197176, 142000, 213000, 500000]"
      ]
     },
     "execution_count": 25,
     "metadata": {},
     "output_type": "execute_result"
    }
   ],
   "source": [
    "#Outliers in Selling_Price are:\n",
    "km_out = find_outliers(proc_data_2['Kms_Driven'])\n",
    "km_out"
   ]
  },
  {
   "cell_type": "code",
   "execution_count": 26,
   "id": "e761b6d3",
   "metadata": {},
   "outputs": [
    {
     "data": {
      "text/plain": [
       "1.9933554817275747"
      ]
     },
     "execution_count": 26,
     "metadata": {},
     "output_type": "execute_result"
    }
   ],
   "source": [
    "#Checking %\n",
    "(len(km_out)/len(og_data))*100"
   ]
  },
  {
   "cell_type": "code",
   "execution_count": 27,
   "id": "c243d0d8",
   "metadata": {},
   "outputs": [
    {
     "data": {
      "text/plain": [
       "(276, 10)"
      ]
     },
     "execution_count": 27,
     "metadata": {},
     "output_type": "execute_result"
    }
   ],
   "source": [
    "#Dropping the outliers\n",
    "#Dropping Outliers from SP\n",
    "indices = proc_data_2[proc_data_2['Kms_Driven'].isin(km_out)].index\n",
    "proc_data_3 = proc_data_2.drop(indices)\n",
    "proc_data_3.shape"
   ]
  },
  {
   "cell_type": "code",
   "execution_count": 28,
   "id": "af214a20",
   "metadata": {},
   "outputs": [
    {
     "name": "stderr",
     "output_type": "stream",
     "text": [
      "C:\\Users\\Kanchan\\anaconda3\\lib\\site-packages\\seaborn\\_decorators.py:36: FutureWarning: Pass the following variable as a keyword arg: x. From version 0.12, the only valid positional argument will be `data`, and passing other arguments without an explicit keyword will result in an error or misinterpretation.\n",
      "  warnings.warn(\n"
     ]
    },
    {
     "data": {
      "text/plain": [
       "<AxesSubplot:xlabel='Kms_Driven'>"
      ]
     },
     "execution_count": 28,
     "metadata": {},
     "output_type": "execute_result"
    },
    {
     "data": {
      "image/png": "[encoded data removed]",
      "text/plain": [
       "<Figure size 432x288 with 1 Axes>"
      ]
     },
     "metadata": {
      "needs_background": "light"
     },
     "output_type": "display_data"
    }
   ],
   "source": [
    "sns.boxplot(proc_data_3['Kms_Driven'])"
   ]
  },
  {
   "cell_type": "raw",
   "id": "a75a39d3",
   "metadata": {},
   "source": [
    "#_No outliers in Kms_Driven"
   ]
  },
  {
   "cell_type": "markdown",
   "id": "9cf7471c",
   "metadata": {},
   "source": [
    "## _Feature Engineering_"
   ]
  },
  {
   "cell_type": "markdown",
   "id": "2d40b51f",
   "metadata": {},
   "source": [
    "#### Adding Car age from Year"
   ]
  },
  {
   "cell_type": "code",
   "execution_count": 29,
   "id": "9d2636d2",
   "metadata": {},
   "outputs": [
    {
     "data": {
      "text/html": [
       "<div>\n",
       "<style scoped>\n",
       "    .dataframe tbody tr th:only-of-type {\n",
       "        vertical-align: middle;\n",
       "    }\n",
       "\n",
       "    .dataframe tbody tr th {\n",
       "        vertical-align: top;\n",
       "    }\n",
       "\n",
       "    .dataframe thead th {\n",
       "        text-align: right;\n",
       "    }\n",
       "</style>\n",
       "<table border=\"1\" class=\"dataframe\">\n",
       "  <thead>\n",
       "    <tr style=\"text-align: right;\">\n",
       "      <th></th>\n",
       "      <th>Car_Name</th>\n",
       "      <th>Year</th>\n",
       "      <th>Selling_Price</th>\n",
       "      <th>Present_Price</th>\n",
       "      <th>Kms_Driven</th>\n",
       "      <th>Fuel_Type</th>\n",
       "      <th>Seller_Type</th>\n",
       "      <th>Transmission</th>\n",
       "      <th>Owner</th>\n",
       "      <th>Profit</th>\n",
       "      <th>Car_Age</th>\n",
       "    </tr>\n",
       "  </thead>\n",
       "  <tbody>\n",
       "    <tr>\n",
       "      <th>0</th>\n",
       "      <td>ritz</td>\n",
       "      <td>2014</td>\n",
       "      <td>3.35</td>\n",
       "      <td>5.59</td>\n",
       "      <td>27000</td>\n",
       "      <td>Petrol</td>\n",
       "      <td>Dealer</td>\n",
       "      <td>Manual</td>\n",
       "      <td>0</td>\n",
       "      <td>40.071556</td>\n",
       "      <td>7</td>\n",
       "    </tr>\n",
       "    <tr>\n",
       "      <th>1</th>\n",
       "      <td>sx4</td>\n",
       "      <td>2013</td>\n",
       "      <td>4.75</td>\n",
       "      <td>9.54</td>\n",
       "      <td>43000</td>\n",
       "      <td>Diesel</td>\n",
       "      <td>Dealer</td>\n",
       "      <td>Manual</td>\n",
       "      <td>0</td>\n",
       "      <td>50.209644</td>\n",
       "      <td>8</td>\n",
       "    </tr>\n",
       "    <tr>\n",
       "      <th>2</th>\n",
       "      <td>ciaz</td>\n",
       "      <td>2017</td>\n",
       "      <td>7.25</td>\n",
       "      <td>9.85</td>\n",
       "      <td>6900</td>\n",
       "      <td>Petrol</td>\n",
       "      <td>Dealer</td>\n",
       "      <td>Manual</td>\n",
       "      <td>0</td>\n",
       "      <td>26.395939</td>\n",
       "      <td>4</td>\n",
       "    </tr>\n",
       "    <tr>\n",
       "      <th>3</th>\n",
       "      <td>wagon r</td>\n",
       "      <td>2011</td>\n",
       "      <td>2.85</td>\n",
       "      <td>4.15</td>\n",
       "      <td>5200</td>\n",
       "      <td>Petrol</td>\n",
       "      <td>Dealer</td>\n",
       "      <td>Manual</td>\n",
       "      <td>0</td>\n",
       "      <td>31.325301</td>\n",
       "      <td>10</td>\n",
       "    </tr>\n",
       "    <tr>\n",
       "      <th>4</th>\n",
       "      <td>swift</td>\n",
       "      <td>2014</td>\n",
       "      <td>4.60</td>\n",
       "      <td>6.87</td>\n",
       "      <td>42450</td>\n",
       "      <td>Diesel</td>\n",
       "      <td>Dealer</td>\n",
       "      <td>Manual</td>\n",
       "      <td>0</td>\n",
       "      <td>33.042213</td>\n",
       "      <td>7</td>\n",
       "    </tr>\n",
       "  </tbody>\n",
       "</table>\n",
       "</div>"
      ],
      "text/plain": [
       "  Car_Name  Year  Selling_Price  Present_Price  Kms_Driven Fuel_Type  \\\n",
       "0     ritz  2014           3.35           5.59       27000    Petrol   \n",
       "1      sx4  2013           4.75           9.54       43000    Diesel   \n",
       "2     ciaz  2017           7.25           9.85        6900    Petrol   \n",
       "3  wagon r  2011           2.85           4.15        5200    Petrol   \n",
       "4    swift  2014           4.60           6.87       42450    Diesel   \n",
       "\n",
       "  Seller_Type Transmission  Owner     Profit  Car_Age  \n",
       "0      Dealer       Manual      0  40.071556        7  \n",
       "1      Dealer       Manual      0  50.209644        8  \n",
       "2      Dealer       Manual      0  26.395939        4  \n",
       "3      Dealer       Manual      0  31.325301       10  \n",
       "4      Dealer       Manual      0  33.042213        7  "
      ]
     },
     "execution_count": 29,
     "metadata": {},
     "output_type": "execute_result"
    }
   ],
   "source": [
    "cuurent_yr = 2021\n",
    "proc_data_3['Car_Age'] = 2021 - proc_data_3['Year']\n",
    "proc_data_3.head()"
   ]
  },
  {
   "cell_type": "code",
   "execution_count": 30,
   "id": "c974a698",
   "metadata": {},
   "outputs": [
    {
     "name": "stderr",
     "output_type": "stream",
     "text": [
      "C:\\Users\\Kanchan\\anaconda3\\lib\\site-packages\\seaborn\\_decorators.py:36: FutureWarning: Pass the following variable as a keyword arg: x. From version 0.12, the only valid positional argument will be `data`, and passing other arguments without an explicit keyword will result in an error or misinterpretation.\n",
      "  warnings.warn(\n"
     ]
    },
    {
     "data": {
      "text/plain": [
       "<AxesSubplot:xlabel='Car_Age'>"
      ]
     },
     "execution_count": 30,
     "metadata": {},
     "output_type": "execute_result"
    },
    {
     "data": {
      "image/png": "[encoded data removed]",
      "text/plain": [
       "<Figure size 432x288 with 1 Axes>"
      ]
     },
     "metadata": {
      "needs_background": "light"
     },
     "output_type": "display_data"
    }
   ],
   "source": [
    "sns.boxplot(proc_data_3['Car_Age'])"
   ]
  },
  {
   "cell_type": "code",
   "execution_count": 31,
   "id": "a7958203",
   "metadata": {},
   "outputs": [
    {
     "data": {
      "text/plain": [
       "4"
      ]
     },
     "execution_count": 31,
     "metadata": {},
     "output_type": "execute_result"
    }
   ],
   "source": [
    "#Outliers >15\n",
    "age_out = proc_data_3[proc_data_3['Car_Age'] > 15].index\n",
    "len(age_out)"
   ]
  },
  {
   "cell_type": "code",
   "execution_count": 32,
   "id": "bb9160bd",
   "metadata": {},
   "outputs": [
    {
     "name": "stdout",
     "output_type": "stream",
     "text": [
      "<class 'pandas.core.frame.DataFrame'>\n",
      "Int64Index: 272 entries, 0 to 300\n",
      "Data columns (total 11 columns):\n",
      " #   Column         Non-Null Count  Dtype  \n",
      "---  ------         --------------  -----  \n",
      " 0   Car_Name       272 non-null    object \n",
      " 1   Year           272 non-null    int64  \n",
      " 2   Selling_Price  272 non-null    float64\n",
      " 3   Present_Price  272 non-null    float64\n",
      " 4   Kms_Driven     272 non-null    int64  \n",
      " 5   Fuel_Type      272 non-null    object \n",
      " 6   Seller_Type    272 non-null    object \n",
      " 7   Transmission   272 non-null    object \n",
      " 8   Owner          272 non-null    int64  \n",
      " 9   Profit         272 non-null    float64\n",
      " 10  Car_Age        272 non-null    int64  \n",
      "dtypes: float64(3), int64(4), object(4)\n",
      "memory usage: 21.2+ KB\n"
     ]
    }
   ],
   "source": [
    "#Removing outliers from Age\n",
    "proc_data = proc_data_3.drop(age_out)\n",
    "proc_data.info()"
   ]
  },
  {
   "cell_type": "markdown",
   "id": "812d6d5c",
   "metadata": {},
   "source": [
    "#### Re-checking for Inconsistency"
   ]
  },
  {
   "cell_type": "code",
   "execution_count": 33,
   "id": "cd338518",
   "metadata": {},
   "outputs": [
    {
     "data": {
      "text/plain": [
       "<AxesSubplot:>"
      ]
     },
     "execution_count": 33,
     "metadata": {},
     "output_type": "execute_result"
    },
    {
     "data": {
      "image/png": "[encoded data removed]",
      "text/plain": [
       "<Figure size 432x288 with 1 Axes>"
      ]
     },
     "metadata": {
      "needs_background": "light"
     },
     "output_type": "display_data"
    }
   ],
   "source": [
    "proc_data.boxplot()"
   ]
  },
  {
   "cell_type": "code",
   "execution_count": 34,
   "id": "0ceb43b5",
   "metadata": {},
   "outputs": [
    {
     "data": {
      "text/html": [
       "<div>\n",
       "<style scoped>\n",
       "    .dataframe tbody tr th:only-of-type {\n",
       "        vertical-align: middle;\n",
       "    }\n",
       "\n",
       "    .dataframe tbody tr th {\n",
       "        vertical-align: top;\n",
       "    }\n",
       "\n",
       "    .dataframe thead th {\n",
       "        text-align: right;\n",
       "    }\n",
       "</style>\n",
       "<table border=\"1\" class=\"dataframe\">\n",
       "  <thead>\n",
       "    <tr style=\"text-align: right;\">\n",
       "      <th></th>\n",
       "      <th>Car_Name</th>\n",
       "      <th>Year</th>\n",
       "      <th>Selling_Price</th>\n",
       "      <th>Present_Price</th>\n",
       "      <th>Kms_Driven</th>\n",
       "      <th>Fuel_Type</th>\n",
       "      <th>Seller_Type</th>\n",
       "      <th>Transmission</th>\n",
       "      <th>Owner</th>\n",
       "      <th>Profit</th>\n",
       "      <th>Car_Age</th>\n",
       "    </tr>\n",
       "  </thead>\n",
       "  <tbody>\n",
       "    <tr>\n",
       "      <th>200</th>\n",
       "      <td>Bajaj Pulsar 150</td>\n",
       "      <td>2006</td>\n",
       "      <td>0.1</td>\n",
       "      <td>0.75</td>\n",
       "      <td>92233</td>\n",
       "      <td>Petrol</td>\n",
       "      <td>Individual</td>\n",
       "      <td>Manual</td>\n",
       "      <td>0</td>\n",
       "      <td>86.666667</td>\n",
       "      <td>15</td>\n",
       "    </tr>\n",
       "  </tbody>\n",
       "</table>\n",
       "</div>"
      ],
      "text/plain": [
       "             Car_Name  Year  Selling_Price  Present_Price  Kms_Driven  \\\n",
       "200  Bajaj Pulsar 150  2006            0.1           0.75       92233   \n",
       "\n",
       "    Fuel_Type Seller_Type Transmission  Owner     Profit  Car_Age  \n",
       "200    Petrol  Individual       Manual      0  86.666667       15  "
      ]
     },
     "execution_count": 34,
     "metadata": {},
     "output_type": "execute_result"
    }
   ],
   "source": [
    "proc_data[proc_data['Kms_Driven'] > 90000]"
   ]
  },
  {
   "cell_type": "code",
   "execution_count": 35,
   "id": "c8c342a9",
   "metadata": {},
   "outputs": [
    {
     "data": {
      "text/html": [
       "<div>\n",
       "<style scoped>\n",
       "    .dataframe tbody tr th:only-of-type {\n",
       "        vertical-align: middle;\n",
       "    }\n",
       "\n",
       "    .dataframe tbody tr th {\n",
       "        vertical-align: top;\n",
       "    }\n",
       "\n",
       "    .dataframe thead th {\n",
       "        text-align: right;\n",
       "    }\n",
       "</style>\n",
       "<table border=\"1\" class=\"dataframe\">\n",
       "  <thead>\n",
       "    <tr style=\"text-align: right;\">\n",
       "      <th></th>\n",
       "      <th>Car_Name</th>\n",
       "      <th>Year</th>\n",
       "      <th>Selling_Price</th>\n",
       "      <th>Present_Price</th>\n",
       "      <th>Kms_Driven</th>\n",
       "      <th>Fuel_Type</th>\n",
       "      <th>Seller_Type</th>\n",
       "      <th>Transmission</th>\n",
       "      <th>Owner</th>\n",
       "      <th>Profit</th>\n",
       "      <th>Car_Age</th>\n",
       "    </tr>\n",
       "  </thead>\n",
       "  <tbody>\n",
       "    <tr>\n",
       "      <th>0</th>\n",
       "      <td>ritz</td>\n",
       "      <td>2014</td>\n",
       "      <td>3.35</td>\n",
       "      <td>5.59</td>\n",
       "      <td>27000</td>\n",
       "      <td>Petrol</td>\n",
       "      <td>Dealer</td>\n",
       "      <td>Manual</td>\n",
       "      <td>0</td>\n",
       "      <td>40.071556</td>\n",
       "      <td>7</td>\n",
       "    </tr>\n",
       "    <tr>\n",
       "      <th>1</th>\n",
       "      <td>sx4</td>\n",
       "      <td>2013</td>\n",
       "      <td>4.75</td>\n",
       "      <td>9.54</td>\n",
       "      <td>43000</td>\n",
       "      <td>Diesel</td>\n",
       "      <td>Dealer</td>\n",
       "      <td>Manual</td>\n",
       "      <td>0</td>\n",
       "      <td>50.209644</td>\n",
       "      <td>8</td>\n",
       "    </tr>\n",
       "    <tr>\n",
       "      <th>2</th>\n",
       "      <td>ciaz</td>\n",
       "      <td>2017</td>\n",
       "      <td>7.25</td>\n",
       "      <td>9.85</td>\n",
       "      <td>6900</td>\n",
       "      <td>Petrol</td>\n",
       "      <td>Dealer</td>\n",
       "      <td>Manual</td>\n",
       "      <td>0</td>\n",
       "      <td>26.395939</td>\n",
       "      <td>4</td>\n",
       "    </tr>\n",
       "    <tr>\n",
       "      <th>3</th>\n",
       "      <td>wagon r</td>\n",
       "      <td>2011</td>\n",
       "      <td>2.85</td>\n",
       "      <td>4.15</td>\n",
       "      <td>5200</td>\n",
       "      <td>Petrol</td>\n",
       "      <td>Dealer</td>\n",
       "      <td>Manual</td>\n",
       "      <td>0</td>\n",
       "      <td>31.325301</td>\n",
       "      <td>10</td>\n",
       "    </tr>\n",
       "    <tr>\n",
       "      <th>4</th>\n",
       "      <td>swift</td>\n",
       "      <td>2014</td>\n",
       "      <td>4.60</td>\n",
       "      <td>6.87</td>\n",
       "      <td>42450</td>\n",
       "      <td>Diesel</td>\n",
       "      <td>Dealer</td>\n",
       "      <td>Manual</td>\n",
       "      <td>0</td>\n",
       "      <td>33.042213</td>\n",
       "      <td>7</td>\n",
       "    </tr>\n",
       "    <tr>\n",
       "      <th>...</th>\n",
       "      <td>...</td>\n",
       "      <td>...</td>\n",
       "      <td>...</td>\n",
       "      <td>...</td>\n",
       "      <td>...</td>\n",
       "      <td>...</td>\n",
       "      <td>...</td>\n",
       "      <td>...</td>\n",
       "      <td>...</td>\n",
       "      <td>...</td>\n",
       "      <td>...</td>\n",
       "    </tr>\n",
       "    <tr>\n",
       "      <th>296</th>\n",
       "      <td>city</td>\n",
       "      <td>2016</td>\n",
       "      <td>9.50</td>\n",
       "      <td>11.60</td>\n",
       "      <td>33988</td>\n",
       "      <td>Diesel</td>\n",
       "      <td>Dealer</td>\n",
       "      <td>Manual</td>\n",
       "      <td>0</td>\n",
       "      <td>18.103448</td>\n",
       "      <td>5</td>\n",
       "    </tr>\n",
       "    <tr>\n",
       "      <th>297</th>\n",
       "      <td>brio</td>\n",
       "      <td>2015</td>\n",
       "      <td>4.00</td>\n",
       "      <td>5.90</td>\n",
       "      <td>60000</td>\n",
       "      <td>Petrol</td>\n",
       "      <td>Dealer</td>\n",
       "      <td>Manual</td>\n",
       "      <td>0</td>\n",
       "      <td>32.203390</td>\n",
       "      <td>6</td>\n",
       "    </tr>\n",
       "    <tr>\n",
       "      <th>298</th>\n",
       "      <td>city</td>\n",
       "      <td>2009</td>\n",
       "      <td>3.35</td>\n",
       "      <td>11.00</td>\n",
       "      <td>87934</td>\n",
       "      <td>Petrol</td>\n",
       "      <td>Dealer</td>\n",
       "      <td>Manual</td>\n",
       "      <td>0</td>\n",
       "      <td>69.545455</td>\n",
       "      <td>12</td>\n",
       "    </tr>\n",
       "    <tr>\n",
       "      <th>299</th>\n",
       "      <td>city</td>\n",
       "      <td>2017</td>\n",
       "      <td>11.50</td>\n",
       "      <td>12.50</td>\n",
       "      <td>9000</td>\n",
       "      <td>Diesel</td>\n",
       "      <td>Dealer</td>\n",
       "      <td>Manual</td>\n",
       "      <td>0</td>\n",
       "      <td>8.000000</td>\n",
       "      <td>4</td>\n",
       "    </tr>\n",
       "    <tr>\n",
       "      <th>300</th>\n",
       "      <td>brio</td>\n",
       "      <td>2016</td>\n",
       "      <td>5.30</td>\n",
       "      <td>5.90</td>\n",
       "      <td>5464</td>\n",
       "      <td>Petrol</td>\n",
       "      <td>Dealer</td>\n",
       "      <td>Manual</td>\n",
       "      <td>0</td>\n",
       "      <td>10.169492</td>\n",
       "      <td>5</td>\n",
       "    </tr>\n",
       "  </tbody>\n",
       "</table>\n",
       "<p>271 rows × 11 columns</p>\n",
       "</div>"
      ],
      "text/plain": [
       "    Car_Name  Year  Selling_Price  Present_Price  Kms_Driven Fuel_Type  \\\n",
       "0       ritz  2014           3.35           5.59       27000    Petrol   \n",
       "1        sx4  2013           4.75           9.54       43000    Diesel   \n",
       "2       ciaz  2017           7.25           9.85        6900    Petrol   \n",
       "3    wagon r  2011           2.85           4.15        5200    Petrol   \n",
       "4      swift  2014           4.60           6.87       42450    Diesel   \n",
       "..       ...   ...            ...            ...         ...       ...   \n",
       "296     city  2016           9.50          11.60       33988    Diesel   \n",
       "297     brio  2015           4.00           5.90       60000    Petrol   \n",
       "298     city  2009           3.35          11.00       87934    Petrol   \n",
       "299     city  2017          11.50          12.50        9000    Diesel   \n",
       "300     brio  2016           5.30           5.90        5464    Petrol   \n",
       "\n",
       "    Seller_Type Transmission  Owner     Profit  Car_Age  \n",
       "0        Dealer       Manual      0  40.071556        7  \n",
       "1        Dealer       Manual      0  50.209644        8  \n",
       "2        Dealer       Manual      0  26.395939        4  \n",
       "3        Dealer       Manual      0  31.325301       10  \n",
       "4        Dealer       Manual      0  33.042213        7  \n",
       "..          ...          ...    ...        ...      ...  \n",
       "296      Dealer       Manual      0  18.103448        5  \n",
       "297      Dealer       Manual      0  32.203390        6  \n",
       "298      Dealer       Manual      0  69.545455       12  \n",
       "299      Dealer       Manual      0   8.000000        4  \n",
       "300      Dealer       Manual      0  10.169492        5  \n",
       "\n",
       "[271 rows x 11 columns]"
      ]
     },
     "execution_count": 35,
     "metadata": {},
     "output_type": "execute_result"
    }
   ],
   "source": [
    "proc_data = proc_data.drop(200)\n",
    "proc_data"
   ]
  },
  {
   "cell_type": "markdown",
   "id": "9f394323",
   "metadata": {},
   "source": [
    "#### _Removing Unwanted Cols_"
   ]
  },
  {
   "cell_type": "code",
   "execution_count": 36,
   "id": "13c2da69",
   "metadata": {},
   "outputs": [],
   "source": [
    "proc_data = proc_data.drop(['Car_Name','Profit','Year'], axis=1)"
   ]
  },
  {
   "cell_type": "code",
   "execution_count": 37,
   "id": "9f8c15a7",
   "metadata": {},
   "outputs": [
    {
     "data": {
      "text/html": [
       "<div>\n",
       "<style scoped>\n",
       "    .dataframe tbody tr th:only-of-type {\n",
       "        vertical-align: middle;\n",
       "    }\n",
       "\n",
       "    .dataframe tbody tr th {\n",
       "        vertical-align: top;\n",
       "    }\n",
       "\n",
       "    .dataframe thead th {\n",
       "        text-align: right;\n",
       "    }\n",
       "</style>\n",
       "<table border=\"1\" class=\"dataframe\">\n",
       "  <thead>\n",
       "    <tr style=\"text-align: right;\">\n",
       "      <th></th>\n",
       "      <th>Selling_Price</th>\n",
       "      <th>Present_Price</th>\n",
       "      <th>Kms_Driven</th>\n",
       "      <th>Fuel_Type</th>\n",
       "      <th>Seller_Type</th>\n",
       "      <th>Transmission</th>\n",
       "      <th>Owner</th>\n",
       "      <th>Car_Age</th>\n",
       "    </tr>\n",
       "  </thead>\n",
       "  <tbody>\n",
       "    <tr>\n",
       "      <th>0</th>\n",
       "      <td>3.35</td>\n",
       "      <td>5.59</td>\n",
       "      <td>27000</td>\n",
       "      <td>Petrol</td>\n",
       "      <td>Dealer</td>\n",
       "      <td>Manual</td>\n",
       "      <td>0</td>\n",
       "      <td>7</td>\n",
       "    </tr>\n",
       "    <tr>\n",
       "      <th>1</th>\n",
       "      <td>4.75</td>\n",
       "      <td>9.54</td>\n",
       "      <td>43000</td>\n",
       "      <td>Diesel</td>\n",
       "      <td>Dealer</td>\n",
       "      <td>Manual</td>\n",
       "      <td>0</td>\n",
       "      <td>8</td>\n",
       "    </tr>\n",
       "    <tr>\n",
       "      <th>2</th>\n",
       "      <td>7.25</td>\n",
       "      <td>9.85</td>\n",
       "      <td>6900</td>\n",
       "      <td>Petrol</td>\n",
       "      <td>Dealer</td>\n",
       "      <td>Manual</td>\n",
       "      <td>0</td>\n",
       "      <td>4</td>\n",
       "    </tr>\n",
       "    <tr>\n",
       "      <th>3</th>\n",
       "      <td>2.85</td>\n",
       "      <td>4.15</td>\n",
       "      <td>5200</td>\n",
       "      <td>Petrol</td>\n",
       "      <td>Dealer</td>\n",
       "      <td>Manual</td>\n",
       "      <td>0</td>\n",
       "      <td>10</td>\n",
       "    </tr>\n",
       "    <tr>\n",
       "      <th>4</th>\n",
       "      <td>4.60</td>\n",
       "      <td>6.87</td>\n",
       "      <td>42450</td>\n",
       "      <td>Diesel</td>\n",
       "      <td>Dealer</td>\n",
       "      <td>Manual</td>\n",
       "      <td>0</td>\n",
       "      <td>7</td>\n",
       "    </tr>\n",
       "    <tr>\n",
       "      <th>...</th>\n",
       "      <td>...</td>\n",
       "      <td>...</td>\n",
       "      <td>...</td>\n",
       "      <td>...</td>\n",
       "      <td>...</td>\n",
       "      <td>...</td>\n",
       "      <td>...</td>\n",
       "      <td>...</td>\n",
       "    </tr>\n",
       "    <tr>\n",
       "      <th>296</th>\n",
       "      <td>9.50</td>\n",
       "      <td>11.60</td>\n",
       "      <td>33988</td>\n",
       "      <td>Diesel</td>\n",
       "      <td>Dealer</td>\n",
       "      <td>Manual</td>\n",
       "      <td>0</td>\n",
       "      <td>5</td>\n",
       "    </tr>\n",
       "    <tr>\n",
       "      <th>297</th>\n",
       "      <td>4.00</td>\n",
       "      <td>5.90</td>\n",
       "      <td>60000</td>\n",
       "      <td>Petrol</td>\n",
       "      <td>Dealer</td>\n",
       "      <td>Manual</td>\n",
       "      <td>0</td>\n",
       "      <td>6</td>\n",
       "    </tr>\n",
       "    <tr>\n",
       "      <th>298</th>\n",
       "      <td>3.35</td>\n",
       "      <td>11.00</td>\n",
       "      <td>87934</td>\n",
       "      <td>Petrol</td>\n",
       "      <td>Dealer</td>\n",
       "      <td>Manual</td>\n",
       "      <td>0</td>\n",
       "      <td>12</td>\n",
       "    </tr>\n",
       "    <tr>\n",
       "      <th>299</th>\n",
       "      <td>11.50</td>\n",
       "      <td>12.50</td>\n",
       "      <td>9000</td>\n",
       "      <td>Diesel</td>\n",
       "      <td>Dealer</td>\n",
       "      <td>Manual</td>\n",
       "      <td>0</td>\n",
       "      <td>4</td>\n",
       "    </tr>\n",
       "    <tr>\n",
       "      <th>300</th>\n",
       "      <td>5.30</td>\n",
       "      <td>5.90</td>\n",
       "      <td>5464</td>\n",
       "      <td>Petrol</td>\n",
       "      <td>Dealer</td>\n",
       "      <td>Manual</td>\n",
       "      <td>0</td>\n",
       "      <td>5</td>\n",
       "    </tr>\n",
       "  </tbody>\n",
       "</table>\n",
       "<p>271 rows × 8 columns</p>\n",
       "</div>"
      ],
      "text/plain": [
       "     Selling_Price  Present_Price  Kms_Driven Fuel_Type Seller_Type  \\\n",
       "0             3.35           5.59       27000    Petrol      Dealer   \n",
       "1             4.75           9.54       43000    Diesel      Dealer   \n",
       "2             7.25           9.85        6900    Petrol      Dealer   \n",
       "3             2.85           4.15        5200    Petrol      Dealer   \n",
       "4             4.60           6.87       42450    Diesel      Dealer   \n",
       "..             ...            ...         ...       ...         ...   \n",
       "296           9.50          11.60       33988    Diesel      Dealer   \n",
       "297           4.00           5.90       60000    Petrol      Dealer   \n",
       "298           3.35          11.00       87934    Petrol      Dealer   \n",
       "299          11.50          12.50        9000    Diesel      Dealer   \n",
       "300           5.30           5.90        5464    Petrol      Dealer   \n",
       "\n",
       "    Transmission  Owner  Car_Age  \n",
       "0         Manual      0        7  \n",
       "1         Manual      0        8  \n",
       "2         Manual      0        4  \n",
       "3         Manual      0       10  \n",
       "4         Manual      0        7  \n",
       "..           ...    ...      ...  \n",
       "296       Manual      0        5  \n",
       "297       Manual      0        6  \n",
       "298       Manual      0       12  \n",
       "299       Manual      0        4  \n",
       "300       Manual      0        5  \n",
       "\n",
       "[271 rows x 8 columns]"
      ]
     },
     "execution_count": 37,
     "metadata": {},
     "output_type": "execute_result"
    }
   ],
   "source": [
    "proc_data"
   ]
  },
  {
   "cell_type": "markdown",
   "id": "f4020e3e",
   "metadata": {},
   "source": [
    "## _Converting Categorical Features_"
   ]
  },
  {
   "cell_type": "code",
   "execution_count": 38,
   "id": "e801e3b6",
   "metadata": {},
   "outputs": [
    {
     "data": {
      "text/html": [
       "<div>\n",
       "<style scoped>\n",
       "    .dataframe tbody tr th:only-of-type {\n",
       "        vertical-align: middle;\n",
       "    }\n",
       "\n",
       "    .dataframe tbody tr th {\n",
       "        vertical-align: top;\n",
       "    }\n",
       "\n",
       "    .dataframe thead th {\n",
       "        text-align: right;\n",
       "    }\n",
       "</style>\n",
       "<table border=\"1\" class=\"dataframe\">\n",
       "  <thead>\n",
       "    <tr style=\"text-align: right;\">\n",
       "      <th></th>\n",
       "      <th>Selling_Price</th>\n",
       "      <th>Present_Price</th>\n",
       "      <th>Kms_Driven</th>\n",
       "      <th>Owner</th>\n",
       "      <th>Car_Age</th>\n",
       "      <th>Fuel_Type_Diesel</th>\n",
       "      <th>Fuel_Type_Petrol</th>\n",
       "      <th>Seller_Type_Individual</th>\n",
       "      <th>Transmission_Manual</th>\n",
       "    </tr>\n",
       "  </thead>\n",
       "  <tbody>\n",
       "    <tr>\n",
       "      <th>0</th>\n",
       "      <td>3.35</td>\n",
       "      <td>5.59</td>\n",
       "      <td>27000</td>\n",
       "      <td>0</td>\n",
       "      <td>7</td>\n",
       "      <td>0</td>\n",
       "      <td>1</td>\n",
       "      <td>0</td>\n",
       "      <td>1</td>\n",
       "    </tr>\n",
       "    <tr>\n",
       "      <th>1</th>\n",
       "      <td>4.75</td>\n",
       "      <td>9.54</td>\n",
       "      <td>43000</td>\n",
       "      <td>0</td>\n",
       "      <td>8</td>\n",
       "      <td>1</td>\n",
       "      <td>0</td>\n",
       "      <td>0</td>\n",
       "      <td>1</td>\n",
       "    </tr>\n",
       "    <tr>\n",
       "      <th>2</th>\n",
       "      <td>7.25</td>\n",
       "      <td>9.85</td>\n",
       "      <td>6900</td>\n",
       "      <td>0</td>\n",
       "      <td>4</td>\n",
       "      <td>0</td>\n",
       "      <td>1</td>\n",
       "      <td>0</td>\n",
       "      <td>1</td>\n",
       "    </tr>\n",
       "    <tr>\n",
       "      <th>3</th>\n",
       "      <td>2.85</td>\n",
       "      <td>4.15</td>\n",
       "      <td>5200</td>\n",
       "      <td>0</td>\n",
       "      <td>10</td>\n",
       "      <td>0</td>\n",
       "      <td>1</td>\n",
       "      <td>0</td>\n",
       "      <td>1</td>\n",
       "    </tr>\n",
       "    <tr>\n",
       "      <th>4</th>\n",
       "      <td>4.60</td>\n",
       "      <td>6.87</td>\n",
       "      <td>42450</td>\n",
       "      <td>0</td>\n",
       "      <td>7</td>\n",
       "      <td>1</td>\n",
       "      <td>0</td>\n",
       "      <td>0</td>\n",
       "      <td>1</td>\n",
       "    </tr>\n",
       "    <tr>\n",
       "      <th>...</th>\n",
       "      <td>...</td>\n",
       "      <td>...</td>\n",
       "      <td>...</td>\n",
       "      <td>...</td>\n",
       "      <td>...</td>\n",
       "      <td>...</td>\n",
       "      <td>...</td>\n",
       "      <td>...</td>\n",
       "      <td>...</td>\n",
       "    </tr>\n",
       "    <tr>\n",
       "      <th>296</th>\n",
       "      <td>9.50</td>\n",
       "      <td>11.60</td>\n",
       "      <td>33988</td>\n",
       "      <td>0</td>\n",
       "      <td>5</td>\n",
       "      <td>1</td>\n",
       "      <td>0</td>\n",
       "      <td>0</td>\n",
       "      <td>1</td>\n",
       "    </tr>\n",
       "    <tr>\n",
       "      <th>297</th>\n",
       "      <td>4.00</td>\n",
       "      <td>5.90</td>\n",
       "      <td>60000</td>\n",
       "      <td>0</td>\n",
       "      <td>6</td>\n",
       "      <td>0</td>\n",
       "      <td>1</td>\n",
       "      <td>0</td>\n",
       "      <td>1</td>\n",
       "    </tr>\n",
       "    <tr>\n",
       "      <th>298</th>\n",
       "      <td>3.35</td>\n",
       "      <td>11.00</td>\n",
       "      <td>87934</td>\n",
       "      <td>0</td>\n",
       "      <td>12</td>\n",
       "      <td>0</td>\n",
       "      <td>1</td>\n",
       "      <td>0</td>\n",
       "      <td>1</td>\n",
       "    </tr>\n",
       "    <tr>\n",
       "      <th>299</th>\n",
       "      <td>11.50</td>\n",
       "      <td>12.50</td>\n",
       "      <td>9000</td>\n",
       "      <td>0</td>\n",
       "      <td>4</td>\n",
       "      <td>1</td>\n",
       "      <td>0</td>\n",
       "      <td>0</td>\n",
       "      <td>1</td>\n",
       "    </tr>\n",
       "    <tr>\n",
       "      <th>300</th>\n",
       "      <td>5.30</td>\n",
       "      <td>5.90</td>\n",
       "      <td>5464</td>\n",
       "      <td>0</td>\n",
       "      <td>5</td>\n",
       "      <td>0</td>\n",
       "      <td>1</td>\n",
       "      <td>0</td>\n",
       "      <td>1</td>\n",
       "    </tr>\n",
       "  </tbody>\n",
       "</table>\n",
       "<p>271 rows × 9 columns</p>\n",
       "</div>"
      ],
      "text/plain": [
       "     Selling_Price  Present_Price  Kms_Driven  Owner  Car_Age  \\\n",
       "0             3.35           5.59       27000      0        7   \n",
       "1             4.75           9.54       43000      0        8   \n",
       "2             7.25           9.85        6900      0        4   \n",
       "3             2.85           4.15        5200      0       10   \n",
       "4             4.60           6.87       42450      0        7   \n",
       "..             ...            ...         ...    ...      ...   \n",
       "296           9.50          11.60       33988      0        5   \n",
       "297           4.00           5.90       60000      0        6   \n",
       "298           3.35          11.00       87934      0       12   \n",
       "299          11.50          12.50        9000      0        4   \n",
       "300           5.30           5.90        5464      0        5   \n",
       "\n",
       "     Fuel_Type_Diesel  Fuel_Type_Petrol  Seller_Type_Individual  \\\n",
       "0                   0                 1                       0   \n",
       "1                   1                 0                       0   \n",
       "2                   0                 1                       0   \n",
       "3                   0                 1                       0   \n",
       "4                   1                 0                       0   \n",
       "..                ...               ...                     ...   \n",
       "296                 1                 0                       0   \n",
       "297                 0                 1                       0   \n",
       "298                 0                 1                       0   \n",
       "299                 1                 0                       0   \n",
       "300                 0                 1                       0   \n",
       "\n",
       "     Transmission_Manual  \n",
       "0                      1  \n",
       "1                      1  \n",
       "2                      1  \n",
       "3                      1  \n",
       "4                      1  \n",
       "..                   ...  \n",
       "296                    1  \n",
       "297                    1  \n",
       "298                    1  \n",
       "299                    1  \n",
       "300                    1  \n",
       "\n",
       "[271 rows x 9 columns]"
      ]
     },
     "execution_count": 38,
     "metadata": {},
     "output_type": "execute_result"
    }
   ],
   "source": [
    "#Using one hot encoding\n",
    "proc_data = pd.get_dummies(proc_data, drop_first=True)\n",
    "proc_data"
   ]
  },
  {
   "cell_type": "code",
   "execution_count": 39,
   "id": "06494920",
   "metadata": {},
   "outputs": [],
   "source": [
    "#Only 9 features -> No Need of hypertuning"
   ]
  },
  {
   "cell_type": "markdown",
   "id": "ad368e51",
   "metadata": {},
   "source": [
    "## _Model Building_"
   ]
  },
  {
   "cell_type": "markdown",
   "id": "dc388a32",
   "metadata": {},
   "source": [
    "#### Splitting Set"
   ]
  },
  {
   "cell_type": "code",
   "execution_count": 40,
   "id": "e825d094",
   "metadata": {},
   "outputs": [],
   "source": [
    "X = proc_data.drop(['Selling_Price'],axis=1)\n",
    "Y = proc_data['Selling_Price']"
   ]
  },
  {
   "cell_type": "code",
   "execution_count": 58,
   "id": "52b57f2a",
   "metadata": {},
   "outputs": [],
   "source": [
    "from sklearn.model_selection import train_test_split\n",
    "X_train,X_test,y_train,y_test = train_test_split(X, Y, test_size = 0.2,train_size=0.8)"
   ]
  },
  {
   "cell_type": "markdown",
   "id": "9a4b5b00",
   "metadata": {},
   "source": [
    "#### Iteration 1"
   ]
  },
  {
   "cell_type": "code",
   "execution_count": 59,
   "id": "f5fa3dc4",
   "metadata": {},
   "outputs": [
    {
     "data": {
      "text/plain": [
       "0.9915904150605759"
      ]
     },
     "execution_count": 59,
     "metadata": {},
     "output_type": "execute_result"
    }
   ],
   "source": [
    "#Using Random Forest\n",
    "from sklearn.ensemble import RandomForestRegressor\n",
    "rf = RandomForestRegressor()\n",
    "rf.fit(X_train,y_train)\n",
    "rf.score(X_train,y_train)"
   ]
  },
  {
   "cell_type": "raw",
   "id": "b020152d",
   "metadata": {},
   "source": [
    "#_High accuracy on train set\n",
    "#_Model is OverFitting"
   ]
  },
  {
   "cell_type": "markdown",
   "id": "d17a04ed",
   "metadata": {},
   "source": [
    "#### Iteration 2"
   ]
  },
  {
   "cell_type": "code",
   "execution_count": 60,
   "id": "cb4f3e76",
   "metadata": {},
   "outputs": [],
   "source": [
    "#Trying to tweak n_estimators and max_features\n",
    "score = []\n",
    "for i in range(1,500,50):\n",
    "    rf = RandomForestRegressor(n_estimators=i)\n",
    "    rf.fit(X_train,y_train)\n",
    "    plot = rf.score(X_train,y_train)\n",
    "    score.append(plot)"
   ]
  },
  {
   "cell_type": "code",
   "execution_count": 61,
   "id": "c95a32f8",
   "metadata": {},
   "outputs": [
    {
     "data": {
      "text/plain": [
       "[<matplotlib.lines.Line2D at 0x1188bbc8>]"
      ]
     },
     "execution_count": 61,
     "metadata": {},
     "output_type": "execute_result"
    },
    {
     "data": {
      "image/png": "[encoded data removed]",
      "text/plain": [
       "<Figure size 432x288 with 1 Axes>"
      ]
     },
     "metadata": {
      "needs_background": "light"
     },
     "output_type": "display_data"
    }
   ],
   "source": [
    "plt.plot(range(1,500,50),score)"
   ]
  },
  {
   "cell_type": "raw",
   "id": "cbb76fe5",
   "metadata": {},
   "source": [
    "#_The accuracy doesn't seem to decline or stagnate continuosly, hence n_estimators set to the lowest point = 50"
   ]
  },
  {
   "cell_type": "code",
   "execution_count": 168,
   "id": "0166a2d3",
   "metadata": {},
   "outputs": [
    {
     "data": {
      "text/plain": [
       "0.9510446368754056"
      ]
     },
     "execution_count": 168,
     "metadata": {},
     "output_type": "execute_result"
    }
   ],
   "source": [
    "#Max features\n",
    "rf = RandomForestRegressor(n_estimators=50, max_depth = 6, max_features='sqrt', random_state=20)\n",
    "rf.fit(X_train,y_train)\n",
    "rf.score(X_train,y_train)"
   ]
  },
  {
   "cell_type": "code",
   "execution_count": 169,
   "id": "b5b64fd2",
   "metadata": {},
   "outputs": [
    {
     "data": {
      "text/plain": [
       "0.9130777492028797"
      ]
     },
     "execution_count": 169,
     "metadata": {},
     "output_type": "execute_result"
    }
   ],
   "source": [
    "rf.score(X_test,y_test)"
   ]
  },
  {
   "cell_type": "code",
   "execution_count": 170,
   "id": "f0de9277",
   "metadata": {},
   "outputs": [
    {
     "data": {
      "text/plain": [
       "<matplotlib.collections.PathCollection at 0x1086d4a8>"
      ]
     },
     "execution_count": 170,
     "metadata": {},
     "output_type": "execute_result"
    },
    {
     "data": {
      "image/png": "[encoded data removed]",
      "text/plain": [
       "<Figure size 432x288 with 1 Axes>"
      ]
     },
     "metadata": {
      "needs_background": "light"
     },
     "output_type": "display_data"
    }
   ],
   "source": [
    "pred = rf.predict(X_test)\n",
    "plt.scatter(y_test,pred)"
   ]
  },
  {
   "cell_type": "code",
   "execution_count": 171,
   "id": "61b60631",
   "metadata": {},
   "outputs": [
    {
     "data": {
      "text/plain": [
       "0.5338070109622856"
      ]
     },
     "execution_count": 171,
     "metadata": {},
     "output_type": "execute_result"
    }
   ],
   "source": [
    "from sklearn.metrics import mean_absolute_error\n",
    "mean_absolute_error(y_test,pred)"
   ]
  },
  {
   "cell_type": "code",
   "execution_count": null,
   "id": "70a2630c",
   "metadata": {},
   "outputs": [],
   "source": []
  }
 ],
 "metadata": {
  "kernelspec": {
   "display_name": "Python 3",
   "language": "python",
   "name": "python3"
  },
  "language_info": {
   "codemirror_mode": {
    "name": "ipython",
    "version": 3
   },
   "file_extension": ".py",
   "mimetype": "text/x-python",
   "name": "python",
   "nbconvert_exporter": "python",
   "pygments_lexer": "ipython3",
   "version": "3.8.8"
  }
 },
 "nbformat": 4,
 "nbformat_minor": 5
}
